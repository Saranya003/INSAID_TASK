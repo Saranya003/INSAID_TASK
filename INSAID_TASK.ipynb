{
  "nbformat": 4,
  "nbformat_minor": 0,
  "metadata": {
    "colab": {
      "provenance": [],
      "authorship_tag": "ABX9TyMR910WtdxrKkkW2lGrihvu",
      "include_colab_link": true
    },
    "kernelspec": {
      "name": "python3",
      "display_name": "Python 3"
    },
    "language_info": {
      "name": "python"
    }
  },
  "cells": [
    {
      "cell_type": "markdown",
      "metadata": {
        "id": "view-in-github",
        "colab_type": "text"
      },
      "source": [
        "<a href=\"https://colab.research.google.com/github/Saranya003/INSAID_TASK/blob/main/INSAID_TASK.ipynb\" target=\"_parent\"><img src=\"https://colab.research.google.com/assets/colab-badge.svg\" alt=\"Open In Colab\"/></a>"
      ]
    },
    {
      "cell_type": "markdown",
      "source": [
        "# **Fraudulent Transactions for a Financial Company**"
      ],
      "metadata": {
        "id": "u3X68NUXrvx7"
      }
    },
    {
      "cell_type": "markdown",
      "source": [
        "step - maps a unit of time in the real world. In this case 1 step is 1 hour of time. Total steps 744 (30 days simulation).\n",
        "\n",
        "type - CASH-IN, CASH-OUT, DEBIT, PAYMENT and TRANSFER.\n",
        "\n",
        "amount - amount of the transaction in local currency.\n",
        "\n",
        "nameOrig - customer who started the transaction\n",
        "\n",
        "oldbalanceOrg - initial balance before the transaction\n",
        "\n",
        "newbalanceOrig - new balance after the transaction\n",
        "\n",
        "nameDest - customer who is the recipient of the transaction\n",
        "\n",
        "oldbalanceDest - initial balance recipient before the transaction. Note that there is not information for customers that start with M (Merchants).\n",
        "\n",
        "newbalanceDest - new balance recipient after the transaction. Note that there is not information for customers that start with M (Merchants).\n",
        "\n",
        "isFraud - This is the transactions made by the fraudulent agents inside the simulation. In this specific dataset the fraudulent behavior of the agents aims to profit by taking control or customers accounts and try to empty the funds by transferring to another account and then cashing out of the system.\n",
        "\n",
        "isFlaggedFraud - The business model aims to control massive transfers from one account to another and flags illegal attempts. An illegal attempt in this dataset is an attempt to transfer more than 200.000 in a single transaction."
      ],
      "metadata": {
        "id": "kKxN5b91d5Uj"
      }
    },
    {
      "cell_type": "markdown",
      "source": [
        "**IMPORT LIBERARY**"
      ],
      "metadata": {
        "id": "u01dJ5ZMkRXS"
      }
    },
    {
      "cell_type": "code",
      "source": [
        "import pandas as pd\n",
        "import numpy as np\n",
        "import matplotlib.pyplot as plt\n",
        "import seaborn as sns"
      ],
      "metadata": {
        "id": "LeAuzrksaaot"
      },
      "execution_count": 53,
      "outputs": []
    },
    {
      "cell_type": "markdown",
      "source": [
        "**READ THE DATASET**"
      ],
      "metadata": {
        "id": "KePYBDAokXJs"
      }
    },
    {
      "cell_type": "code",
      "source": [
        "df=pd.read_csv('Fraud.csv')\n",
        "df.shape"
      ],
      "metadata": {
        "colab": {
          "base_uri": "https://localhost:8080/"
        },
        "id": "2DS_Z7ssbGup",
        "outputId": "03dba9d1-85c8-4e35-87ed-95230ca9d120"
      },
      "execution_count": 54,
      "outputs": [
        {
          "output_type": "execute_result",
          "data": {
            "text/plain": [
              "(409488, 11)"
            ]
          },
          "metadata": {},
          "execution_count": 54
        }
      ]
    },
    {
      "cell_type": "code",
      "source": [
        "df.head(5)"
      ],
      "metadata": {
        "id": "ZX8m3AqndzjK"
      },
      "execution_count": null,
      "outputs": []
    },
    {
      "cell_type": "markdown",
      "source": [
        "**CHECK FOR NULL VALUES**"
      ],
      "metadata": {
        "id": "7QUhKuoFkcrf"
      }
    },
    {
      "cell_type": "code",
      "source": [
        "df.isnull().values.any()"
      ],
      "metadata": {
        "colab": {
          "base_uri": "https://localhost:8080/"
        },
        "id": "95hmH8hPfLRS",
        "outputId": "64ce6677-1172-4a63-eeee-100d4451096d"
      },
      "execution_count": 56,
      "outputs": [
        {
          "output_type": "execute_result",
          "data": {
            "text/plain": [
              "True"
            ]
          },
          "metadata": {},
          "execution_count": 56
        }
      ]
    },
    {
      "cell_type": "code",
      "source": [
        "df.isnull().sum()"
      ],
      "metadata": {
        "colab": {
          "base_uri": "https://localhost:8080/"
        },
        "id": "09sO9u6zfUIl",
        "outputId": "4ddad78c-5c85-457f-eee2-bfccc6d862eb"
      },
      "execution_count": 57,
      "outputs": [
        {
          "output_type": "execute_result",
          "data": {
            "text/plain": [
              "step              0\n",
              "type              0\n",
              "amount            1\n",
              "nameOrig          1\n",
              "oldbalanceOrg     1\n",
              "newbalanceOrig    1\n",
              "nameDest          1\n",
              "oldbalanceDest    1\n",
              "newbalanceDest    1\n",
              "isFraud           1\n",
              "isFlaggedFraud    1\n",
              "dtype: int64"
            ]
          },
          "metadata": {},
          "execution_count": 57
        }
      ]
    },
    {
      "cell_type": "markdown",
      "source": [
        "Missing values can be handled by deleting the rows or columns having null values. If columns have more than half of the rows as null then the entire column can be dropped. The rows which are having one or more columns values as null can also be dropped."
      ],
      "metadata": {
        "id": "Z16NuoR9jrqT"
      }
    },
    {
      "cell_type": "code",
      "source": [
        "df.dropna(inplace=True)\n",
        "df.isnull().sum()"
      ],
      "metadata": {
        "colab": {
          "base_uri": "https://localhost:8080/"
        },
        "id": "biTLo19tjJo2",
        "outputId": "72c2451c-509b-4191-ed25-debc97e507db"
      },
      "execution_count": 58,
      "outputs": [
        {
          "output_type": "execute_result",
          "data": {
            "text/plain": [
              "step              0\n",
              "type              0\n",
              "amount            0\n",
              "nameOrig          0\n",
              "oldbalanceOrg     0\n",
              "newbalanceOrig    0\n",
              "nameDest          0\n",
              "oldbalanceDest    0\n",
              "newbalanceDest    0\n",
              "isFraud           0\n",
              "isFlaggedFraud    0\n",
              "dtype: int64"
            ]
          },
          "metadata": {},
          "execution_count": 58
        }
      ]
    },
    {
      "cell_type": "code",
      "source": [
        "df.info()"
      ],
      "metadata": {
        "colab": {
          "base_uri": "https://localhost:8080/"
        },
        "id": "xQmqmYhpkp5g",
        "outputId": "ab61d107-3a72-4c06-e044-85431f7b7dd7"
      },
      "execution_count": 59,
      "outputs": [
        {
          "output_type": "stream",
          "name": "stdout",
          "text": [
            "<class 'pandas.core.frame.DataFrame'>\n",
            "Int64Index: 409487 entries, 0 to 409486\n",
            "Data columns (total 11 columns):\n",
            " #   Column          Non-Null Count   Dtype  \n",
            "---  ------          --------------   -----  \n",
            " 0   step            409487 non-null  int64  \n",
            " 1   type            409487 non-null  object \n",
            " 2   amount          409487 non-null  float64\n",
            " 3   nameOrig        409487 non-null  object \n",
            " 4   oldbalanceOrg   409487 non-null  float64\n",
            " 5   newbalanceOrig  409487 non-null  float64\n",
            " 6   nameDest        409487 non-null  object \n",
            " 7   oldbalanceDest  409487 non-null  float64\n",
            " 8   newbalanceDest  409487 non-null  float64\n",
            " 9   isFraud         409487 non-null  float64\n",
            " 10  isFlaggedFraud  409487 non-null  float64\n",
            "dtypes: float64(7), int64(1), object(3)\n",
            "memory usage: 37.5+ MB\n"
          ]
        }
      ]
    },
    {
      "cell_type": "code",
      "source": [
        "df.describe()"
      ],
      "metadata": {
        "id": "F0abZHdqnEvT"
      },
      "execution_count": null,
      "outputs": []
    },
    {
      "cell_type": "code",
      "source": [
        "iqr = df['step'].quantile(0.75) - df['step'].quantile(0.25)\n",
        "upper_threshold = df['step'].quantile(0.75) + (1.5 * iqr)\n",
        "lower_threshold = df['step'].quantile(0.25) - (1.5 * iqr)\n",
        "lower_threshold,upper_threshold"
      ],
      "metadata": {
        "colab": {
          "base_uri": "https://localhost:8080/"
        },
        "id": "Njd0GeQYn3tV",
        "outputId": "06eb4ce3-faee-496b-80c5-417afe8b78a3"
      },
      "execution_count": 61,
      "outputs": [
        {
          "output_type": "execute_result",
          "data": {
            "text/plain": [
              "(1.0, 25.0)"
            ]
          },
          "metadata": {},
          "execution_count": 61
        }
      ]
    },
    {
      "cell_type": "code",
      "source": [
        "import plotly.express as px\n",
        "from matplotlib.pyplot import figure\n",
        "\n",
        "#sns.boxplot(dataset['store'])\n",
        "fig = px.box(df[\"step\"])\n",
        "fig.show()"
      ],
      "metadata": {
        "id": "bHma-iTwoTZU"
      },
      "execution_count": null,
      "outputs": []
    },
    {
      "cell_type": "markdown",
      "source": [
        "AS WE OBSERVED THE GRAPH THEIR IS OUTLIERS IN THE STEP NEED TO CLIP"
      ],
      "metadata": {
        "id": "OA1ZHaUFojWE"
      }
    },
    {
      "cell_type": "code",
      "source": [
        "df['step'] = df['step'].clip(upper_threshold,lower_threshold)\n",
        "df.step\n",
        "fig = px.box(df[\"step\"])\n",
        "fig.show()"
      ],
      "metadata": {
        "id": "eCPT31VeomKJ"
      },
      "execution_count": null,
      "outputs": []
    },
    {
      "cell_type": "markdown",
      "source": [
        "AFTER CLIPPING NO OUTLIERS FOUND"
      ],
      "metadata": {
        "id": "z27EuWLrpJVk"
      }
    },
    {
      "cell_type": "code",
      "source": [
        "iqr = df['amount'].quantile(0.75) - df['amount'].quantile(0.25)\n",
        "upper_threshold = df['amount'].quantile(0.75) + (1.5 * iqr)\n",
        "lower_threshold = df['amount'].quantile(0.25) - (1.5 * iqr)\n",
        "lower_threshold,upper_threshold"
      ],
      "metadata": {
        "colab": {
          "base_uri": "https://localhost:8080/"
        },
        "id": "OqOI34EWpK7H",
        "outputId": "1fc2e0ab-0fa2-4607-ef4b-e5b325a01bb2"
      },
      "execution_count": 64,
      "outputs": [
        {
          "output_type": "execute_result",
          "data": {
            "text/plain": [
              "(-310512.2774999999, 553466.3424999999)"
            ]
          },
          "metadata": {},
          "execution_count": 64
        }
      ]
    },
    {
      "cell_type": "code",
      "source": [
        "fig = px.box(df[\"step\"])\n",
        "fig.show()"
      ],
      "metadata": {
        "id": "6S0biruZqPCu"
      },
      "execution_count": null,
      "outputs": []
    },
    {
      "cell_type": "markdown",
      "source": [
        "AS WE OBSERVED THE GRAPH THEIR IS NO OUTLIERS"
      ],
      "metadata": {
        "id": "fWBusA3Irbia"
      }
    },
    {
      "cell_type": "code",
      "source": [
        "\n",
        "iqr = df['oldbalanceOrg'].quantile(0.75) - df['oldbalanceOrg'].quantile(0.25)\n",
        "upper_threshold = df['oldbalanceOrg'].quantile(0.75) + (1.5 * iqr)\n",
        "lower_threshold = df['oldbalanceOrg'].quantile(0.25) - (1.5 * iqr)\n",
        "lower_threshold,upper_threshold"
      ],
      "metadata": {
        "colab": {
          "base_uri": "https://localhost:8080/"
        },
        "id": "HmTtNOhhqcrO",
        "outputId": "d2d32d7e-f4f2-4e94-8e03-e59a8eb21d5d"
      },
      "execution_count": 66,
      "outputs": [
        {
          "output_type": "execute_result",
          "data": {
            "text/plain": [
              "(-261819.52500000002, 436365.875)"
            ]
          },
          "metadata": {},
          "execution_count": 66
        }
      ]
    },
    {
      "cell_type": "code",
      "source": [
        "fig = px.box(df[\"oldbalanceOrg\"])\n",
        "fig.show()"
      ],
      "metadata": {
        "id": "hxFKajL9qm4v"
      },
      "execution_count": null,
      "outputs": []
    },
    {
      "cell_type": "markdown",
      "source": [
        "AS WE OBSERVED THE GRAPH THEIR IS OUTLIERS  NEED TO CLIP"
      ],
      "metadata": {
        "id": "tgvvuC-xrA2Q"
      }
    },
    {
      "cell_type": "code",
      "source": [
        "df['oldbalanceOrg'] = df['oldbalanceOrg'].clip(upper_threshold,lower_threshold)\n",
        "df.oldbalanceOrg\n",
        "fig = px.box(df[\"oldbalanceOrg\"])\n",
        "fig.show()"
      ],
      "metadata": {
        "id": "JrmN7nFBq17K"
      },
      "execution_count": null,
      "outputs": []
    },
    {
      "cell_type": "markdown",
      "source": [
        "AFTER CLIPPING NO OUTLIERS FOUND"
      ],
      "metadata": {
        "id": "QbEqCQVOrJG9"
      }
    },
    {
      "cell_type": "code",
      "source": [
        "iqr = df['newbalanceOrig'].quantile(0.75) - df['newbalanceOrig'].quantile(0.25)\n",
        "upper_threshold = df['newbalanceOrig'].quantile(0.75) + (1.5 * iqr)\n",
        "lower_threshold = df['newbalanceOrig'].quantile(0.25) - (1.5 * iqr)\n",
        "print(lower_threshold,upper_threshold)\n",
        "#Graph\n",
        "fig = px.box(df[\"newbalanceOrig\"])\n",
        "fig.show()\n"
      ],
      "metadata": {
        "id": "tKBlP4xNsKv8"
      },
      "execution_count": null,
      "outputs": []
    },
    {
      "cell_type": "markdown",
      "source": [
        "AS WE OBSERVED THE GRAPH THEIR IS OUTLIERS NEED TO CLIP"
      ],
      "metadata": {
        "id": "rzP4UJRqvZ_C"
      }
    },
    {
      "cell_type": "code",
      "source": [
        "df['newbalanceOrig'] = df['newbalanceOrig'].clip(upper_threshold,lower_threshold)\n",
        "df.newbalanceOrig\n",
        "fig = px.box(df[\"newbalanceOrig\"])\n",
        "fig.show()"
      ],
      "metadata": {
        "id": "2_CC0vwGvBVQ"
      },
      "execution_count": null,
      "outputs": []
    },
    {
      "cell_type": "markdown",
      "source": [
        "AFTER CLIPPING NO OUTLIERS FOUND"
      ],
      "metadata": {
        "id": "zio0ywxVvi_D"
      }
    },
    {
      "cell_type": "code",
      "source": [
        "iqr = df['oldbalanceDest'].quantile(0.75) - df['oldbalanceDest'].quantile(0.25)\n",
        "upper_threshold = df['oldbalanceDest'].quantile(0.75) + (1.5 * iqr)\n",
        "lower_threshold = df['oldbalanceDest'].quantile(0.25) - (1.5 * iqr)\n",
        "print(lower_threshold,upper_threshold)\n",
        "#Graph\n",
        "fig = px.box(df[\"oldbalanceDest\"])\n",
        "fig.show()"
      ],
      "metadata": {
        "id": "qLLQSFNVvd4q"
      },
      "execution_count": null,
      "outputs": []
    },
    {
      "cell_type": "markdown",
      "source": [
        "AS WE OBSERVED THE GRAPH THEIR IS OUTLIERS NEED TO CLIP"
      ],
      "metadata": {
        "id": "4bKTLZmCwUim"
      }
    },
    {
      "cell_type": "code",
      "source": [
        "df['oldbalanceDest'] = df['oldbalanceDest'].clip(upper_threshold,lower_threshold)\n",
        "df.oldbalanceDest\n",
        "fig = px.box(df[\"oldbalanceDest\"])\n",
        "fig.show()"
      ],
      "metadata": {
        "id": "VHc7Ltdrv_9f"
      },
      "execution_count": null,
      "outputs": []
    },
    {
      "cell_type": "markdown",
      "source": [
        "AFTER CLIPPING NO OUTLIERS FOUND"
      ],
      "metadata": {
        "id": "CH_MZCsQwNQF"
      }
    },
    {
      "cell_type": "code",
      "source": [
        "iqr = df['newbalanceDest'].quantile(0.75) - df['newbalanceDest'].quantile(0.25)\n",
        "upper_threshold = df['newbalanceDest'].quantile(0.75) + (1.5 * iqr)\n",
        "lower_threshold = df['newbalanceDest'].quantile(0.25) - (1.5 * iqr)\n",
        "print(lower_threshold,upper_threshold)\n",
        "#Graph\n",
        "fig = px.box(df[\"newbalanceDest\"])\n",
        "fig.show()"
      ],
      "metadata": {
        "id": "3jGnbCtBwVd8"
      },
      "execution_count": null,
      "outputs": []
    },
    {
      "cell_type": "markdown",
      "source": [
        "AS WE OBSERVED THE GRAPH THEIR IS OUTLIERS NEED TO CLIP"
      ],
      "metadata": {
        "id": "FkdokS6ixC3l"
      }
    },
    {
      "cell_type": "code",
      "source": [
        "df['newbalanceDest'] = df['newbalanceDest'].clip(upper_threshold,lower_threshold)\n",
        "df.newbalanceDest\n",
        "fig = px.box(df[\"newbalanceDest\"])\n",
        "fig.show()"
      ],
      "metadata": {
        "id": "pgdhT8WNwcD2"
      },
      "execution_count": null,
      "outputs": []
    },
    {
      "cell_type": "markdown",
      "source": [
        "AFTER CLIPPING NO OUTLIERS FOUND"
      ],
      "metadata": {
        "id": "EJ1irf92w5Or"
      }
    },
    {
      "cell_type": "code",
      "source": [
        "iqr = df['isFraud'].quantile(0.75) - df['isFraud'].quantile(0.25)\n",
        "upper_threshold = df['isFraud'].quantile(0.75) + (1.5 * iqr)\n",
        "lower_threshold = df['isFraud'].quantile(0.25) - (1.5 * iqr)\n",
        "print(lower_threshold,upper_threshold)\n",
        "#Graph\n",
        "fig = px.box(df[\"isFraud\"])\n",
        "fig.show()"
      ],
      "metadata": {
        "id": "ju32SRCkxJ4q"
      },
      "execution_count": null,
      "outputs": []
    },
    {
      "cell_type": "markdown",
      "source": [
        "AS WE OBSERVED THE GRAPH THEIR IS OUTLIERS NEED TO CLIP"
      ],
      "metadata": {
        "id": "0-Dji_XHxR0-"
      }
    },
    {
      "cell_type": "code",
      "source": [
        "df['isFraud'] = df['isFraud'].clip(upper_threshold,lower_threshold)\n",
        "df.isFraud\n",
        "fig = px.box(df[\"isFraud\"])\n",
        "fig.show()"
      ],
      "metadata": {
        "id": "X7_aeYWbxPj7"
      },
      "execution_count": null,
      "outputs": []
    },
    {
      "cell_type": "markdown",
      "source": [
        "\n",
        "AFTER CLIPPING NO OUTLIERS FOUND"
      ],
      "metadata": {
        "id": "QLJQAvfhyFHa"
      }
    },
    {
      "cell_type": "code",
      "source": [
        "iqr = df['isFlaggedFraud'].quantile(0.75) - df['isFlaggedFraud'].quantile(0.25)\n",
        "upper_threshold = df['isFlaggedFraud'].quantile(0.75) + (1.5 * iqr)\n",
        "lower_threshold = df['isFlaggedFraud'].quantile(0.25) - (1.5 * iqr)\n",
        "print(lower_threshold,upper_threshold)\n",
        "#Graph\n",
        "fig = px.box(df[\"isFlaggedFraud\"])\n",
        "fig.show()"
      ],
      "metadata": {
        "id": "HBPRO8qTxltO"
      },
      "execution_count": null,
      "outputs": []
    },
    {
      "cell_type": "markdown",
      "source": [
        "AS WE OBSERVED THE GRAPH THEIR IS NO OUTLIERS NEED TO CLIP"
      ],
      "metadata": {
        "id": "ml2TN8A0x_pB"
      }
    },
    {
      "cell_type": "code",
      "source": [
        "frauds = len(df[df.isFraud == 1])\n",
        "nonfrauds = len(df[df.isFraud == 0])\n",
        "print(\"Number of Fraud transactions: \", frauds)\n",
        "print(\"Number of NON Fraud transactions: \",nonfrauds )"
      ],
      "metadata": {
        "colab": {
          "base_uri": "https://localhost:8080/"
        },
        "id": "Xa2eK5JtyWd2",
        "outputId": "0e6b8526-483b-45f2-98f7-e90992962f9c"
      },
      "execution_count": 78,
      "outputs": [
        {
          "output_type": "stream",
          "name": "stdout",
          "text": [
            "Number of Fraud transactions:  0\n",
            "Number of NON Fraud transactions:  409487\n"
          ]
        }
      ]
    },
    {
      "cell_type": "code",
      "source": [
        "legit = len(df[df.isFraud == 0])\n",
        "fraud = len(df[df.isFraud == 1])\n",
        "print(\"Number of Fraud transactions: \", fraud)\n",
        "print(\"Number of NON Fraud transactions: \",legit )\n"
      ],
      "metadata": {
        "colab": {
          "base_uri": "https://localhost:8080/"
        },
        "id": "vrQpPAKOyzN0",
        "outputId": "af98ffe8-30f5-445d-d1f5-3032726004ed"
      },
      "execution_count": 79,
      "outputs": [
        {
          "output_type": "stream",
          "name": "stdout",
          "text": [
            "Number of Fraud transactions:  0\n",
            "Number of NON Fraud transactions:  409487\n"
          ]
        }
      ]
    },
    {
      "cell_type": "code",
      "source": [
        "legit_percent = (legit / (fraud + legit)) * 100\n",
        "fraud_percent = (fraud / (fraud + legit)) * 100\n",
        "print(\"Percentage of Legit transactions: {:.4f} %\".format(legit_percent))\n",
        "print(\"Percentage of Fraud transactions: {:.4f} %\".format(fraud_percent))"
      ],
      "metadata": {
        "colab": {
          "base_uri": "https://localhost:8080/"
        },
        "id": "SUiavYJizkY5",
        "outputId": "9a7cd5f1-c524-4d48-b518-bf4104b1d890"
      },
      "execution_count": 80,
      "outputs": [
        {
          "output_type": "stream",
          "name": "stdout",
          "text": [
            "Percentage of Legit transactions: 100.0000 %\n",
            "Percentage of Fraud transactions: 0.0000 %\n"
          ]
        }
      ]
    },
    {
      "cell_type": "code",
      "source": [
        "df1 = df[df['nameDest'].str.contains(\"M\")==False].copy()\n",
        "df1 = df1.drop(df1.columns[[3, 6]], axis = 1)\n",
        "df1"
      ],
      "metadata": {
        "id": "GLBYslh_lnMX"
      },
      "execution_count": null,
      "outputs": []
    },
    {
      "cell_type": "code",
      "source": [
        "#Evaluating the null values\n",
        "df1.isnull().values.any()"
      ],
      "metadata": {
        "colab": {
          "base_uri": "https://localhost:8080/"
        },
        "id": "tnrNPtzrnpXf",
        "outputId": "c3fb2bd1-7da1-4b0a-e7cf-b962bab90ea9"
      },
      "execution_count": 82,
      "outputs": [
        {
          "output_type": "execute_result",
          "data": {
            "text/plain": [
              "False"
            ]
          },
          "metadata": {},
          "execution_count": 82
        }
      ]
    },
    {
      "cell_type": "code",
      "source": [
        "print(df1.type.unique())"
      ],
      "metadata": {
        "colab": {
          "base_uri": "https://localhost:8080/"
        },
        "id": "BTWyIaDBnWq8",
        "outputId": "ddccec49-449b-4ce9-c5fc-ff966922a955"
      },
      "execution_count": 83,
      "outputs": [
        {
          "output_type": "stream",
          "name": "stdout",
          "text": [
            "['TRANSFER' 'CASH_OUT' 'DEBIT' 'CASH_IN']\n"
          ]
        }
      ]
    },
    {
      "cell_type": "code",
      "source": [
        "columns = ['step', 'amount', 'oldbalanceOrg', 'newbalanceOrig', 'oldbalanceDest', 'newbalanceDest']\n",
        "for i in columns:\n",
        "    df2 = df1.groupby(i).size()\n",
        "    x = df2.index\n",
        "    y = df2.values\n",
        "    plt.plot(x, y)\n",
        "    plt.xlabel(i)\n",
        "    plt.show()"
      ],
      "metadata": {
        "id": "9RoXCn6dn1ym"
      },
      "execution_count": null,
      "outputs": []
    },
    {
      "cell_type": "code",
      "source": [
        "#Encoding the categorical column 'type'\n",
        "type_encoding = { i : j for j,i in enumerate(df1['type'].unique())}\n",
        "\n",
        "df1['type'].replace(type_encoding, inplace = True)\n",
        "df1.head(15)"
      ],
      "metadata": {
        "colab": {
          "base_uri": "https://localhost:8080/",
          "height": 519
        },
        "id": "ex1o39naoEf6",
        "outputId": "b52d57fb-a64d-4086-a373-1cb36d2d7bb6"
      },
      "execution_count": 86,
      "outputs": [
        {
          "output_type": "execute_result",
          "data": {
            "text/plain": [
              "    step  type     amount  oldbalanceOrg  newbalanceOrig  oldbalanceDest  \\\n",
              "2      1     0     181.00         181.00            0.00             0.0   \n",
              "3      1     1     181.00         181.00            0.00         21182.0   \n",
              "9      1     2    5337.77       41720.00        36382.23         41898.0   \n",
              "10     1     2    9644.94        4465.00            0.00         10845.0   \n",
              "15     1     1  229133.94       15325.00            0.00          5083.0   \n",
              "19     1     0  215310.30         705.00            0.00         22425.0   \n",
              "21     1     2    9302.79       11299.00         1996.21         29832.0   \n",
              "22     1     2    1065.41        1817.00          751.59         10330.0   \n",
              "24     1     0  311685.89       10835.00            0.00          6267.0   \n",
              "41     1     2    5758.59       32604.00        26845.41        209699.0   \n",
              "42     1     1  110414.71       26845.41            0.00        288800.0   \n",
              "47     1     1   56953.90        1942.02            0.00         70253.0   \n",
              "48     1     1    5346.89           0.00            0.00        652637.0   \n",
              "51     1     1   23261.30       20411.53            0.00         25742.0   \n",
              "58     1     0   62610.80       79114.00        16503.20           517.0   \n",
              "\n",
              "    newbalanceDest  isFraud  isFlaggedFraud  \n",
              "2     0.000000e+00      0.0             0.0  \n",
              "3     0.000000e+00      0.0             0.0  \n",
              "9     4.034879e+04      0.0             0.0  \n",
              "10    1.579821e+05      0.0             0.0  \n",
              "15    5.151344e+04      0.0             0.0  \n",
              "19    0.000000e+00      0.0             0.0  \n",
              "21    1.689670e+04      0.0             0.0  \n",
              "22    0.000000e+00      0.0             0.0  \n",
              "24    2.719173e+06      0.0             0.0  \n",
              "41    1.699722e+04      0.0             0.0  \n",
              "42    2.415160e+03      0.0             0.0  \n",
              "47    6.410618e+04      0.0             0.0  \n",
              "48    3.053328e+06      0.0             0.0  \n",
              "51    0.000000e+00      0.0             0.0  \n",
              "58    8.383290e+03      0.0             0.0  "
            ],
            "text/html": [
              "\n",
              "  <div id=\"df-48460f7b-07c4-4e6c-8ff4-e2c3d6f5d660\">\n",
              "    <div class=\"colab-df-container\">\n",
              "      <div>\n",
              "<style scoped>\n",
              "    .dataframe tbody tr th:only-of-type {\n",
              "        vertical-align: middle;\n",
              "    }\n",
              "\n",
              "    .dataframe tbody tr th {\n",
              "        vertical-align: top;\n",
              "    }\n",
              "\n",
              "    .dataframe thead th {\n",
              "        text-align: right;\n",
              "    }\n",
              "</style>\n",
              "<table border=\"1\" class=\"dataframe\">\n",
              "  <thead>\n",
              "    <tr style=\"text-align: right;\">\n",
              "      <th></th>\n",
              "      <th>step</th>\n",
              "      <th>type</th>\n",
              "      <th>amount</th>\n",
              "      <th>oldbalanceOrg</th>\n",
              "      <th>newbalanceOrig</th>\n",
              "      <th>oldbalanceDest</th>\n",
              "      <th>newbalanceDest</th>\n",
              "      <th>isFraud</th>\n",
              "      <th>isFlaggedFraud</th>\n",
              "    </tr>\n",
              "  </thead>\n",
              "  <tbody>\n",
              "    <tr>\n",
              "      <th>2</th>\n",
              "      <td>1</td>\n",
              "      <td>0</td>\n",
              "      <td>181.00</td>\n",
              "      <td>181.00</td>\n",
              "      <td>0.00</td>\n",
              "      <td>0.0</td>\n",
              "      <td>0.000000e+00</td>\n",
              "      <td>0.0</td>\n",
              "      <td>0.0</td>\n",
              "    </tr>\n",
              "    <tr>\n",
              "      <th>3</th>\n",
              "      <td>1</td>\n",
              "      <td>1</td>\n",
              "      <td>181.00</td>\n",
              "      <td>181.00</td>\n",
              "      <td>0.00</td>\n",
              "      <td>21182.0</td>\n",
              "      <td>0.000000e+00</td>\n",
              "      <td>0.0</td>\n",
              "      <td>0.0</td>\n",
              "    </tr>\n",
              "    <tr>\n",
              "      <th>9</th>\n",
              "      <td>1</td>\n",
              "      <td>2</td>\n",
              "      <td>5337.77</td>\n",
              "      <td>41720.00</td>\n",
              "      <td>36382.23</td>\n",
              "      <td>41898.0</td>\n",
              "      <td>4.034879e+04</td>\n",
              "      <td>0.0</td>\n",
              "      <td>0.0</td>\n",
              "    </tr>\n",
              "    <tr>\n",
              "      <th>10</th>\n",
              "      <td>1</td>\n",
              "      <td>2</td>\n",
              "      <td>9644.94</td>\n",
              "      <td>4465.00</td>\n",
              "      <td>0.00</td>\n",
              "      <td>10845.0</td>\n",
              "      <td>1.579821e+05</td>\n",
              "      <td>0.0</td>\n",
              "      <td>0.0</td>\n",
              "    </tr>\n",
              "    <tr>\n",
              "      <th>15</th>\n",
              "      <td>1</td>\n",
              "      <td>1</td>\n",
              "      <td>229133.94</td>\n",
              "      <td>15325.00</td>\n",
              "      <td>0.00</td>\n",
              "      <td>5083.0</td>\n",
              "      <td>5.151344e+04</td>\n",
              "      <td>0.0</td>\n",
              "      <td>0.0</td>\n",
              "    </tr>\n",
              "    <tr>\n",
              "      <th>19</th>\n",
              "      <td>1</td>\n",
              "      <td>0</td>\n",
              "      <td>215310.30</td>\n",
              "      <td>705.00</td>\n",
              "      <td>0.00</td>\n",
              "      <td>22425.0</td>\n",
              "      <td>0.000000e+00</td>\n",
              "      <td>0.0</td>\n",
              "      <td>0.0</td>\n",
              "    </tr>\n",
              "    <tr>\n",
              "      <th>21</th>\n",
              "      <td>1</td>\n",
              "      <td>2</td>\n",
              "      <td>9302.79</td>\n",
              "      <td>11299.00</td>\n",
              "      <td>1996.21</td>\n",
              "      <td>29832.0</td>\n",
              "      <td>1.689670e+04</td>\n",
              "      <td>0.0</td>\n",
              "      <td>0.0</td>\n",
              "    </tr>\n",
              "    <tr>\n",
              "      <th>22</th>\n",
              "      <td>1</td>\n",
              "      <td>2</td>\n",
              "      <td>1065.41</td>\n",
              "      <td>1817.00</td>\n",
              "      <td>751.59</td>\n",
              "      <td>10330.0</td>\n",
              "      <td>0.000000e+00</td>\n",
              "      <td>0.0</td>\n",
              "      <td>0.0</td>\n",
              "    </tr>\n",
              "    <tr>\n",
              "      <th>24</th>\n",
              "      <td>1</td>\n",
              "      <td>0</td>\n",
              "      <td>311685.89</td>\n",
              "      <td>10835.00</td>\n",
              "      <td>0.00</td>\n",
              "      <td>6267.0</td>\n",
              "      <td>2.719173e+06</td>\n",
              "      <td>0.0</td>\n",
              "      <td>0.0</td>\n",
              "    </tr>\n",
              "    <tr>\n",
              "      <th>41</th>\n",
              "      <td>1</td>\n",
              "      <td>2</td>\n",
              "      <td>5758.59</td>\n",
              "      <td>32604.00</td>\n",
              "      <td>26845.41</td>\n",
              "      <td>209699.0</td>\n",
              "      <td>1.699722e+04</td>\n",
              "      <td>0.0</td>\n",
              "      <td>0.0</td>\n",
              "    </tr>\n",
              "    <tr>\n",
              "      <th>42</th>\n",
              "      <td>1</td>\n",
              "      <td>1</td>\n",
              "      <td>110414.71</td>\n",
              "      <td>26845.41</td>\n",
              "      <td>0.00</td>\n",
              "      <td>288800.0</td>\n",
              "      <td>2.415160e+03</td>\n",
              "      <td>0.0</td>\n",
              "      <td>0.0</td>\n",
              "    </tr>\n",
              "    <tr>\n",
              "      <th>47</th>\n",
              "      <td>1</td>\n",
              "      <td>1</td>\n",
              "      <td>56953.90</td>\n",
              "      <td>1942.02</td>\n",
              "      <td>0.00</td>\n",
              "      <td>70253.0</td>\n",
              "      <td>6.410618e+04</td>\n",
              "      <td>0.0</td>\n",
              "      <td>0.0</td>\n",
              "    </tr>\n",
              "    <tr>\n",
              "      <th>48</th>\n",
              "      <td>1</td>\n",
              "      <td>1</td>\n",
              "      <td>5346.89</td>\n",
              "      <td>0.00</td>\n",
              "      <td>0.00</td>\n",
              "      <td>652637.0</td>\n",
              "      <td>3.053328e+06</td>\n",
              "      <td>0.0</td>\n",
              "      <td>0.0</td>\n",
              "    </tr>\n",
              "    <tr>\n",
              "      <th>51</th>\n",
              "      <td>1</td>\n",
              "      <td>1</td>\n",
              "      <td>23261.30</td>\n",
              "      <td>20411.53</td>\n",
              "      <td>0.00</td>\n",
              "      <td>25742.0</td>\n",
              "      <td>0.000000e+00</td>\n",
              "      <td>0.0</td>\n",
              "      <td>0.0</td>\n",
              "    </tr>\n",
              "    <tr>\n",
              "      <th>58</th>\n",
              "      <td>1</td>\n",
              "      <td>0</td>\n",
              "      <td>62610.80</td>\n",
              "      <td>79114.00</td>\n",
              "      <td>16503.20</td>\n",
              "      <td>517.0</td>\n",
              "      <td>8.383290e+03</td>\n",
              "      <td>0.0</td>\n",
              "      <td>0.0</td>\n",
              "    </tr>\n",
              "  </tbody>\n",
              "</table>\n",
              "</div>\n",
              "      <button class=\"colab-df-convert\" onclick=\"convertToInteractive('df-48460f7b-07c4-4e6c-8ff4-e2c3d6f5d660')\"\n",
              "              title=\"Convert this dataframe to an interactive table.\"\n",
              "              style=\"display:none;\">\n",
              "        \n",
              "  <svg xmlns=\"http://www.w3.org/2000/svg\" height=\"24px\"viewBox=\"0 0 24 24\"\n",
              "       width=\"24px\">\n",
              "    <path d=\"M0 0h24v24H0V0z\" fill=\"none\"/>\n",
              "    <path d=\"M18.56 5.44l.94 2.06.94-2.06 2.06-.94-2.06-.94-.94-2.06-.94 2.06-2.06.94zm-11 1L8.5 8.5l.94-2.06 2.06-.94-2.06-.94L8.5 2.5l-.94 2.06-2.06.94zm10 10l.94 2.06.94-2.06 2.06-.94-2.06-.94-.94-2.06-.94 2.06-2.06.94z\"/><path d=\"M17.41 7.96l-1.37-1.37c-.4-.4-.92-.59-1.43-.59-.52 0-1.04.2-1.43.59L10.3 9.45l-7.72 7.72c-.78.78-.78 2.05 0 2.83L4 21.41c.39.39.9.59 1.41.59.51 0 1.02-.2 1.41-.59l7.78-7.78 2.81-2.81c.8-.78.8-2.07 0-2.86zM5.41 20L4 18.59l7.72-7.72 1.47 1.35L5.41 20z\"/>\n",
              "  </svg>\n",
              "      </button>\n",
              "      \n",
              "  <style>\n",
              "    .colab-df-container {\n",
              "      display:flex;\n",
              "      flex-wrap:wrap;\n",
              "      gap: 12px;\n",
              "    }\n",
              "\n",
              "    .colab-df-convert {\n",
              "      background-color: #E8F0FE;\n",
              "      border: none;\n",
              "      border-radius: 50%;\n",
              "      cursor: pointer;\n",
              "      display: none;\n",
              "      fill: #1967D2;\n",
              "      height: 32px;\n",
              "      padding: 0 0 0 0;\n",
              "      width: 32px;\n",
              "    }\n",
              "\n",
              "    .colab-df-convert:hover {\n",
              "      background-color: #E2EBFA;\n",
              "      box-shadow: 0px 1px 2px rgba(60, 64, 67, 0.3), 0px 1px 3px 1px rgba(60, 64, 67, 0.15);\n",
              "      fill: #174EA6;\n",
              "    }\n",
              "\n",
              "    [theme=dark] .colab-df-convert {\n",
              "      background-color: #3B4455;\n",
              "      fill: #D2E3FC;\n",
              "    }\n",
              "\n",
              "    [theme=dark] .colab-df-convert:hover {\n",
              "      background-color: #434B5C;\n",
              "      box-shadow: 0px 1px 3px 1px rgba(0, 0, 0, 0.15);\n",
              "      filter: drop-shadow(0px 1px 2px rgba(0, 0, 0, 0.3));\n",
              "      fill: #FFFFFF;\n",
              "    }\n",
              "  </style>\n",
              "\n",
              "      <script>\n",
              "        const buttonEl =\n",
              "          document.querySelector('#df-48460f7b-07c4-4e6c-8ff4-e2c3d6f5d660 button.colab-df-convert');\n",
              "        buttonEl.style.display =\n",
              "          google.colab.kernel.accessAllowed ? 'block' : 'none';\n",
              "\n",
              "        async function convertToInteractive(key) {\n",
              "          const element = document.querySelector('#df-48460f7b-07c4-4e6c-8ff4-e2c3d6f5d660');\n",
              "          const dataTable =\n",
              "            await google.colab.kernel.invokeFunction('convertToInteractive',\n",
              "                                                     [key], {});\n",
              "          if (!dataTable) return;\n",
              "\n",
              "          const docLinkHtml = 'Like what you see? Visit the ' +\n",
              "            '<a target=\"_blank\" href=https://colab.research.google.com/notebooks/data_table.ipynb>data table notebook</a>'\n",
              "            + ' to learn more about interactive tables.';\n",
              "          element.innerHTML = '';\n",
              "          dataTable['output_type'] = 'display_data';\n",
              "          await google.colab.output.renderOutput(dataTable, element);\n",
              "          const docLink = document.createElement('div');\n",
              "          docLink.innerHTML = docLinkHtml;\n",
              "          element.appendChild(docLink);\n",
              "        }\n",
              "      </script>\n",
              "    </div>\n",
              "  </div>\n",
              "  "
            ]
          },
          "metadata": {},
          "execution_count": 86
        }
      ]
    },
    {
      "cell_type": "code",
      "source": [
        "#Check for Multi-collinearity\n",
        "\n",
        "corr = df1.corr()\n",
        "plt.figure(figsize=(10,10))\n",
        "sns.heatmap(corr, xticklabels = corr.columns, yticklabels = corr.columns, annot = True)"
      ],
      "metadata": {
        "colab": {
          "base_uri": "https://localhost:8080/",
          "height": 955
        },
        "id": "fI084B2ZoI9_",
        "outputId": "99a4cb66-1cdf-449d-965f-8cd13e4089a5"
      },
      "execution_count": 87,
      "outputs": [
        {
          "output_type": "execute_result",
          "data": {
            "text/plain": [
              "<Axes: >"
            ]
          },
          "metadata": {},
          "execution_count": 87
        },
        {
          "output_type": "display_data",
          "data": {
            "text/plain": [
              "<Figure size 1000x1000 with 2 Axes>"
            ],
            "image/png": "[encoded data removed]"
          },
          "metadata": {}
        }
      ]
    },
    {
      "cell_type": "code",
      "source": [
        "df1.drop(['oldbalanceOrg', 'oldbalanceDest'], axis=1, inplace=True)"
      ],
      "metadata": {
        "id": "FfgP3VaYob5w"
      },
      "execution_count": 88,
      "outputs": []
    },
    {
      "cell_type": "code",
      "source": [
        "df1.head(15)"
      ],
      "metadata": {
        "colab": {
          "base_uri": "https://localhost:8080/",
          "height": 519
        },
        "id": "SSgLIozYogEF",
        "outputId": "77ba78b2-b1d4-467c-89e4-7fa7f8cb8146"
      },
      "execution_count": 89,
      "outputs": [
        {
          "output_type": "execute_result",
          "data": {
            "text/plain": [
              "    step  type     amount  newbalanceOrig  newbalanceDest  isFraud  \\\n",
              "2      1     0     181.00            0.00    0.000000e+00      0.0   \n",
              "3      1     1     181.00            0.00    0.000000e+00      0.0   \n",
              "9      1     2    5337.77        36382.23    4.034879e+04      0.0   \n",
              "10     1     2    9644.94            0.00    1.579821e+05      0.0   \n",
              "15     1     1  229133.94            0.00    5.151344e+04      0.0   \n",
              "19     1     0  215310.30            0.00    0.000000e+00      0.0   \n",
              "21     1     2    9302.79         1996.21    1.689670e+04      0.0   \n",
              "22     1     2    1065.41          751.59    0.000000e+00      0.0   \n",
              "24     1     0  311685.89            0.00    2.719173e+06      0.0   \n",
              "41     1     2    5758.59        26845.41    1.699722e+04      0.0   \n",
              "42     1     1  110414.71            0.00    2.415160e+03      0.0   \n",
              "47     1     1   56953.90            0.00    6.410618e+04      0.0   \n",
              "48     1     1    5346.89            0.00    3.053328e+06      0.0   \n",
              "51     1     1   23261.30            0.00    0.000000e+00      0.0   \n",
              "58     1     0   62610.80        16503.20    8.383290e+03      0.0   \n",
              "\n",
              "    isFlaggedFraud  \n",
              "2              0.0  \n",
              "3              0.0  \n",
              "9              0.0  \n",
              "10             0.0  \n",
              "15             0.0  \n",
              "19             0.0  \n",
              "21             0.0  \n",
              "22             0.0  \n",
              "24             0.0  \n",
              "41             0.0  \n",
              "42             0.0  \n",
              "47             0.0  \n",
              "48             0.0  \n",
              "51             0.0  \n",
              "58             0.0  "
            ],
            "text/html": [
              "\n",
              "  <div id=\"df-6c663dc0-9d97-4e3c-8d1a-f8240c303fc9\">\n",
              "    <div class=\"colab-df-container\">\n",
              "      <div>\n",
              "<style scoped>\n",
              "    .dataframe tbody tr th:only-of-type {\n",
              "        vertical-align: middle;\n",
              "    }\n",
              "\n",
              "    .dataframe tbody tr th {\n",
              "        vertical-align: top;\n",
              "    }\n",
              "\n",
              "    .dataframe thead th {\n",
              "        text-align: right;\n",
              "    }\n",
              "</style>\n",
              "<table border=\"1\" class=\"dataframe\">\n",
              "  <thead>\n",
              "    <tr style=\"text-align: right;\">\n",
              "      <th></th>\n",
              "      <th>step</th>\n",
              "      <th>type</th>\n",
              "      <th>amount</th>\n",
              "      <th>newbalanceOrig</th>\n",
              "      <th>newbalanceDest</th>\n",
              "      <th>isFraud</th>\n",
              "      <th>isFlaggedFraud</th>\n",
              "    </tr>\n",
              "  </thead>\n",
              "  <tbody>\n",
              "    <tr>\n",
              "      <th>2</th>\n",
              "      <td>1</td>\n",
              "      <td>0</td>\n",
              "      <td>181.00</td>\n",
              "      <td>0.00</td>\n",
              "      <td>0.000000e+00</td>\n",
              "      <td>0.0</td>\n",
              "      <td>0.0</td>\n",
              "    </tr>\n",
              "    <tr>\n",
              "      <th>3</th>\n",
              "      <td>1</td>\n",
              "      <td>1</td>\n",
              "      <td>181.00</td>\n",
              "      <td>0.00</td>\n",
              "      <td>0.000000e+00</td>\n",
              "      <td>0.0</td>\n",
              "      <td>0.0</td>\n",
              "    </tr>\n",
              "    <tr>\n",
              "      <th>9</th>\n",
              "      <td>1</td>\n",
              "      <td>2</td>\n",
              "      <td>5337.77</td>\n",
              "      <td>36382.23</td>\n",
              "      <td>4.034879e+04</td>\n",
              "      <td>0.0</td>\n",
              "      <td>0.0</td>\n",
              "    </tr>\n",
              "    <tr>\n",
              "      <th>10</th>\n",
              "      <td>1</td>\n",
              "      <td>2</td>\n",
              "      <td>9644.94</td>\n",
              "      <td>0.00</td>\n",
              "      <td>1.579821e+05</td>\n",
              "      <td>0.0</td>\n",
              "      <td>0.0</td>\n",
              "    </tr>\n",
              "    <tr>\n",
              "      <th>15</th>\n",
              "      <td>1</td>\n",
              "      <td>1</td>\n",
              "      <td>229133.94</td>\n",
              "      <td>0.00</td>\n",
              "      <td>5.151344e+04</td>\n",
              "      <td>0.0</td>\n",
              "      <td>0.0</td>\n",
              "    </tr>\n",
              "    <tr>\n",
              "      <th>19</th>\n",
              "      <td>1</td>\n",
              "      <td>0</td>\n",
              "      <td>215310.30</td>\n",
              "      <td>0.00</td>\n",
              "      <td>0.000000e+00</td>\n",
              "      <td>0.0</td>\n",
              "      <td>0.0</td>\n",
              "    </tr>\n",
              "    <tr>\n",
              "      <th>21</th>\n",
              "      <td>1</td>\n",
              "      <td>2</td>\n",
              "      <td>9302.79</td>\n",
              "      <td>1996.21</td>\n",
              "      <td>1.689670e+04</td>\n",
              "      <td>0.0</td>\n",
              "      <td>0.0</td>\n",
              "    </tr>\n",
              "    <tr>\n",
              "      <th>22</th>\n",
              "      <td>1</td>\n",
              "      <td>2</td>\n",
              "      <td>1065.41</td>\n",
              "      <td>751.59</td>\n",
              "      <td>0.000000e+00</td>\n",
              "      <td>0.0</td>\n",
              "      <td>0.0</td>\n",
              "    </tr>\n",
              "    <tr>\n",
              "      <th>24</th>\n",
              "      <td>1</td>\n",
              "      <td>0</td>\n",
              "      <td>311685.89</td>\n",
              "      <td>0.00</td>\n",
              "      <td>2.719173e+06</td>\n",
              "      <td>0.0</td>\n",
              "      <td>0.0</td>\n",
              "    </tr>\n",
              "    <tr>\n",
              "      <th>41</th>\n",
              "      <td>1</td>\n",
              "      <td>2</td>\n",
              "      <td>5758.59</td>\n",
              "      <td>26845.41</td>\n",
              "      <td>1.699722e+04</td>\n",
              "      <td>0.0</td>\n",
              "      <td>0.0</td>\n",
              "    </tr>\n",
              "    <tr>\n",
              "      <th>42</th>\n",
              "      <td>1</td>\n",
              "      <td>1</td>\n",
              "      <td>110414.71</td>\n",
              "      <td>0.00</td>\n",
              "      <td>2.415160e+03</td>\n",
              "      <td>0.0</td>\n",
              "      <td>0.0</td>\n",
              "    </tr>\n",
              "    <tr>\n",
              "      <th>47</th>\n",
              "      <td>1</td>\n",
              "      <td>1</td>\n",
              "      <td>56953.90</td>\n",
              "      <td>0.00</td>\n",
              "      <td>6.410618e+04</td>\n",
              "      <td>0.0</td>\n",
              "      <td>0.0</td>\n",
              "    </tr>\n",
              "    <tr>\n",
              "      <th>48</th>\n",
              "      <td>1</td>\n",
              "      <td>1</td>\n",
              "      <td>5346.89</td>\n",
              "      <td>0.00</td>\n",
              "      <td>3.053328e+06</td>\n",
              "      <td>0.0</td>\n",
              "      <td>0.0</td>\n",
              "    </tr>\n",
              "    <tr>\n",
              "      <th>51</th>\n",
              "      <td>1</td>\n",
              "      <td>1</td>\n",
              "      <td>23261.30</td>\n",
              "      <td>0.00</td>\n",
              "      <td>0.000000e+00</td>\n",
              "      <td>0.0</td>\n",
              "      <td>0.0</td>\n",
              "    </tr>\n",
              "    <tr>\n",
              "      <th>58</th>\n",
              "      <td>1</td>\n",
              "      <td>0</td>\n",
              "      <td>62610.80</td>\n",
              "      <td>16503.20</td>\n",
              "      <td>8.383290e+03</td>\n",
              "      <td>0.0</td>\n",
              "      <td>0.0</td>\n",
              "    </tr>\n",
              "  </tbody>\n",
              "</table>\n",
              "</div>\n",
              "      <button class=\"colab-df-convert\" onclick=\"convertToInteractive('df-6c663dc0-9d97-4e3c-8d1a-f8240c303fc9')\"\n",
              "              title=\"Convert this dataframe to an interactive table.\"\n",
              "              style=\"display:none;\">\n",
              "        \n",
              "  <svg xmlns=\"http://www.w3.org/2000/svg\" height=\"24px\"viewBox=\"0 0 24 24\"\n",
              "       width=\"24px\">\n",
              "    <path d=\"M0 0h24v24H0V0z\" fill=\"none\"/>\n",
              "    <path d=\"M18.56 5.44l.94 2.06.94-2.06 2.06-.94-2.06-.94-.94-2.06-.94 2.06-2.06.94zm-11 1L8.5 8.5l.94-2.06 2.06-.94-2.06-.94L8.5 2.5l-.94 2.06-2.06.94zm10 10l.94 2.06.94-2.06 2.06-.94-2.06-.94-.94-2.06-.94 2.06-2.06.94z\"/><path d=\"M17.41 7.96l-1.37-1.37c-.4-.4-.92-.59-1.43-.59-.52 0-1.04.2-1.43.59L10.3 9.45l-7.72 7.72c-.78.78-.78 2.05 0 2.83L4 21.41c.39.39.9.59 1.41.59.51 0 1.02-.2 1.41-.59l7.78-7.78 2.81-2.81c.8-.78.8-2.07 0-2.86zM5.41 20L4 18.59l7.72-7.72 1.47 1.35L5.41 20z\"/>\n",
              "  </svg>\n",
              "      </button>\n",
              "      \n",
              "  <style>\n",
              "    .colab-df-container {\n",
              "      display:flex;\n",
              "      flex-wrap:wrap;\n",
              "      gap: 12px;\n",
              "    }\n",
              "\n",
              "    .colab-df-convert {\n",
              "      background-color: #E8F0FE;\n",
              "      border: none;\n",
              "      border-radius: 50%;\n",
              "      cursor: pointer;\n",
              "      display: none;\n",
              "      fill: #1967D2;\n",
              "      height: 32px;\n",
              "      padding: 0 0 0 0;\n",
              "      width: 32px;\n",
              "    }\n",
              "\n",
              "    .colab-df-convert:hover {\n",
              "      background-color: #E2EBFA;\n",
              "      box-shadow: 0px 1px 2px rgba(60, 64, 67, 0.3), 0px 1px 3px 1px rgba(60, 64, 67, 0.15);\n",
              "      fill: #174EA6;\n",
              "    }\n",
              "\n",
              "    [theme=dark] .colab-df-convert {\n",
              "      background-color: #3B4455;\n",
              "      fill: #D2E3FC;\n",
              "    }\n",
              "\n",
              "    [theme=dark] .colab-df-convert:hover {\n",
              "      background-color: #434B5C;\n",
              "      box-shadow: 0px 1px 3px 1px rgba(0, 0, 0, 0.15);\n",
              "      filter: drop-shadow(0px 1px 2px rgba(0, 0, 0, 0.3));\n",
              "      fill: #FFFFFF;\n",
              "    }\n",
              "  </style>\n",
              "\n",
              "      <script>\n",
              "        const buttonEl =\n",
              "          document.querySelector('#df-6c663dc0-9d97-4e3c-8d1a-f8240c303fc9 button.colab-df-convert');\n",
              "        buttonEl.style.display =\n",
              "          google.colab.kernel.accessAllowed ? 'block' : 'none';\n",
              "\n",
              "        async function convertToInteractive(key) {\n",
              "          const element = document.querySelector('#df-6c663dc0-9d97-4e3c-8d1a-f8240c303fc9');\n",
              "          const dataTable =\n",
              "            await google.colab.kernel.invokeFunction('convertToInteractive',\n",
              "                                                     [key], {});\n",
              "          if (!dataTable) return;\n",
              "\n",
              "          const docLinkHtml = 'Like what you see? Visit the ' +\n",
              "            '<a target=\"_blank\" href=https://colab.research.google.com/notebooks/data_table.ipynb>data table notebook</a>'\n",
              "            + ' to learn more about interactive tables.';\n",
              "          element.innerHTML = '';\n",
              "          dataTable['output_type'] = 'display_data';\n",
              "          await google.colab.output.renderOutput(dataTable, element);\n",
              "          const docLink = document.createElement('div');\n",
              "          docLink.innerHTML = docLinkHtml;\n",
              "          element.appendChild(docLink);\n",
              "        }\n",
              "      </script>\n",
              "    </div>\n",
              "  </div>\n",
              "  "
            ]
          },
          "metadata": {},
          "execution_count": 89
        }
      ]
    },
    {
      "cell_type": "code",
      "source": [
        "#Train-Test split dataset\n",
        "x = df1.drop(['isFraud', 'isFlaggedFraud'], axis=1).values\n",
        "y = df1['isFraud']\n",
        "\n",
        "from sklearn.model_selection import train_test_split\n",
        "\n",
        "x_train, x_test, y_train, y_test = train_test_split(x, y, test_size = 0.25, random_state = 42)"
      ],
      "metadata": {
        "id": "X1w981xdozl9"
      },
      "execution_count": 90,
      "outputs": []
    },
    {
      "cell_type": "code",
      "source": [
        "#Training a DecisionTree for our data\n",
        "from sklearn.metrics import accuracy_score\n",
        "from sklearn.metrics import confusion_matrix\n",
        "from sklearn.tree import DecisionTreeClassifier\n",
        "\n",
        "dtc = DecisionTreeClassifier()\n",
        "dtc.fit(x_train, y_train)\n",
        "y_pred = dtc.predict(x_test)\n",
        "print(\"DecisionTreeClassifier Accuracy Score = \", accuracy_score(y_test, y_pred))"
      ],
      "metadata": {
        "colab": {
          "base_uri": "https://localhost:8080/"
        },
        "id": "ZO2fOKhio7Uf",
        "outputId": "bc65a8ea-b04e-4347-e3e0-efd9ca44dd28"
      },
      "execution_count": 91,
      "outputs": [
        {
          "output_type": "stream",
          "name": "stdout",
          "text": [
            "DecisionTreeClassifier Accuracy Score =  1.0\n"
          ]
        }
      ]
    },
    {
      "cell_type": "code",
      "source": [
        "from sklearn.metrics import f1_score\n",
        "from sklearn.metrics import confusion_matrix, classification_report\n",
        "y_pred = dtc.predict(x_test)\n",
        "print(confusion_matrix(y_test, y_pred, labels=[1,0]))\n",
        "print(classification_report(y_test, y_pred, labels=[1,0]))\n",
        "\n",
        "print(\"DecisionTreeClassifier F1 Score = \", f1_score(y_test, y_pred))"
      ],
      "metadata": {
        "id": "e2xZDH7lpHPH"
      },
      "execution_count": null,
      "outputs": []
    },
    {
      "cell_type": "code",
      "source": [
        "feature_names       = ['step','type','amount','newbalanceOrg','newbalanceDest']\n",
        "features_importance = list(dtc.feature_importances_)\n",
        "\n",
        "result  = pd.DataFrame()\n",
        "\n",
        "result['column_name'       ] = feature_names\n",
        "result['feature_importance'] = features_importance\n",
        "\n",
        "print(result)"
      ],
      "metadata": {
        "colab": {
          "base_uri": "https://localhost:8080/"
        },
        "id": "0BCCW4HxpkFJ",
        "outputId": "97a9f4ec-c998-4902-9382-5c2a6839c451"
      },
      "execution_count": 93,
      "outputs": [
        {
          "output_type": "stream",
          "name": "stdout",
          "text": [
            "      column_name  feature_importance\n",
            "0            step                 0.0\n",
            "1            type                 0.0\n",
            "2          amount                 0.0\n",
            "3   newbalanceOrg                 0.0\n",
            "4  newbalanceDest                 0.0\n"
          ]
        }
      ]
    },
    {
      "cell_type": "markdown",
      "source": [
        "##1.Describe your fraud detection model in elaboration.\n",
        " The dataset had no null values. Missing values were the Merchants and hence nameDest starting with 'M' were removed initially. Outliers were the balance figures of the accounts and they are important to detect fraud in the machine so we cannot interpret and remove the outliers. Multi-collinearity was removed by first cehcking the correlation matrix and then removing the respective columns."
      ],
      "metadata": {
        "id": "PCsz2rBHqYN4"
      }
    },
    {
      "cell_type": "markdown",
      "source": [
        "##2. Describe your fraud detection model in elaboration \n",
        "I have used the Decision Tree Classifier as they are most commonly used for fraud detection by the companies, where the input data contained steps, type, amount, newbalanceOrg and newbalanceDest as the columns and the output was a (0,1), 0 being not fraud and 1 being fraud transaction"
      ],
      "metadata": {
        "id": "Q84ZcyaaqluP"
      }
    },
    {
      "cell_type": "markdown",
      "source": [
        "##3. How did you select variables to be included in the model?\n",
        " First was removal of unncessary columns like nameOrig and nameDest then later any row tih nameDest starting with 'M' was also removed, and after checking for collinearity then two more columns were removed. And rest were included in the data, we just encoded the type variable as it was a categorical column and we encoded it into a numerical column."
      ],
      "metadata": {
        "id": "yms2aW-6q7FK"
      }
    },
    {
      "cell_type": "markdown",
      "source": [
        "##4. Demonstrate the performance of model by using best set of tools. \n",
        "In the end we used accuracy score, confusion matrix and f1 score as the final evaluation for the performance of our model."
      ],
      "metadata": {
        "id": "GdKyimxGrCF9"
      }
    },
    {
      "cell_type": "markdown",
      "source": [
        "## 5. What are the key factors that predict fradulent customer? \n",
        "We can say that the transaction type is the major keyfactor, followed by newbalanceDest and also the amount of transaction can be used."
      ],
      "metadata": {
        "id": "OJq9mZ09rNnn"
      }
    },
    {
      "cell_type": "markdown",
      "source": [
        "##6. Do these factors make sense? If yes, how? If not, how not?\n",
        " The factors do make sense as we saw that only CASH_OUT & TRANSFER contained fraud transaction."
      ],
      "metadata": {
        "id": "cXuAh3TarTe0"
      }
    },
    {
      "cell_type": "markdown",
      "source": [
        "## 7. What kind of prevention should be adopted while company update its infrastructure? \n",
        "If a single fraud is detected then nameDest should be stored for future uses. Both ends of transactions must be verified and balance must be checked at the end of the transaction. Type of transaction is the basic base condition for rolling out major transaction frauds."
      ],
      "metadata": {
        "id": "ootbQxVgreq6"
      }
    },
    {
      "cell_type": "markdown",
      "source": [
        "## 8. Assuming these actions have been implemented, how would you determine if they work?\n",
        " We will run the new data collected from the transaction through our model and check for the accuracy and constantly update our model, implying that we are constantly updating our model and are aware of the accuracy of the same"
      ],
      "metadata": {
        "id": "rnmteEPrrmwB"
      }
    }
  ]
}